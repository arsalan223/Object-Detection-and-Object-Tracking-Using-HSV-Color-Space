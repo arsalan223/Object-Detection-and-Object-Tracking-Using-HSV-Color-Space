{
 "cells": [
  {
   "cell_type": "code",
   "execution_count": 2,
   "metadata": {},
   "outputs": [],
   "source": [
    "import cv2 as cv\n",
    "import numpy as np"
   ]
  },
  {
   "cell_type": "markdown",
   "metadata": {},
   "source": [
    "# Object Detector (Using HSV Color Space)"
   ]
  },
  {
   "cell_type": "code",
   "execution_count": 63,
   "metadata": {},
   "outputs": [],
   "source": [
    "def nothing(X):\n",
    "    pass\n",
    "cv.namedWindow('Trackbars')\n",
    "\n",
    "cv.createTrackbar('LH', 'Trackbars', 0, 255, nothing)\n",
    "cv.createTrackbar('LS', 'Trackbars', 0, 255, nothing)\n",
    "cv.createTrackbar('LV', 'Trackbars', 0, 255, nothing)\n",
    "\n",
    "cv.createTrackbar('UH', 'Trackbars', 255, 255, nothing)\n",
    "cv.createTrackbar('US', 'Trackbars', 255, 255, nothing)\n",
    "cv.createTrackbar('UV', 'Trackbars', 255, 255, nothing)\n",
    "\n",
    "video = cv.VideoCapture(0)\n",
    "while 1:\n",
    "    check, frame = video.read()\n",
    "#     frame = cv.imread('smarties.png') #for testing\n",
    "    hsv = cv.cvtColor(frame, cv.COLOR_BGR2HSV) #converting to HSV (Hue, Saturation & Value)\n",
    "    \n",
    "    l_h = cv.getTrackbarPos('LH', 'Trackbars') #getting value/position from trackbar\n",
    "    l_s = cv.getTrackbarPos('LS', 'Trackbars')\n",
    "    l_v = cv.getTrackbarPos('LV', 'Trackbars')\n",
    "    \n",
    "    u_h = cv.getTrackbarPos('UH', 'Trackbars')\n",
    "    u_s = cv.getTrackbarPos('US', 'Trackbars')\n",
    "    u_v = cv.getTrackbarPos('UV', 'Trackbars')\n",
    "    \n",
    "    l_b = np.array([l_h, l_s, l_v]) #lower boundary of HSV color (to be detected)\n",
    "    u_b = np.array([u_h, u_s, u_v]) #upper boundary of HSV color (to be detected)\n",
    "    \n",
    "    # for sky blue HSV color space\n",
    "#     l_b = np.array([90, 145, 145])\n",
    "#     u_b = np.array([145, 255, 255])\n",
    "    \n",
    "    mask = cv.inRange(hsv, l_b, u_b) #binarized mask (binarization)\n",
    "    result = cv.bitwise_and(frame, frame, mask=mask) #will show only detected object\n",
    "    \n",
    "    contours, check = cv.findContours(mask, cv.RETR_EXTERNAL, cv.CHAIN_APPROX_SIMPLE) #finding contours using mask\n",
    "\n",
    "    for contour in contours: #processing contours\n",
    "            if cv.contourArea(contour) < 150: #if detected object is consist on less than 50 pixels\n",
    "                continue #will break the 'for loop'       \n",
    "            (x, y, w, h) = cv.boundingRect(contour)       \n",
    "            #making rectangles (x, y coordinates starts from top-left (0,0)), giving green color {0,255,0} & 3 channels (BGR)\n",
    "            cv.rectangle(frame, (x, y), (x+w, y+h), (0,255,0), 2)\n",
    "    \n",
    "    cv.imshow('frame', frame)\n",
    "    cv.imshow('mask', mask)\n",
    "    cv.imshow('result', result)\n",
    "      \n",
    "    if cv.waitKey(1) == ord(' '):\n",
    "        break\n",
    "\n",
    "video.release()        \n",
    "cv.destroyAllWindows()"
   ]
  }
 ],
 "metadata": {
  "kernelspec": {
   "display_name": "Python 3",
   "language": "python",
   "name": "python3"
  },
  "language_info": {
   "codemirror_mode": {
    "name": "ipython",
    "version": 3
   },
   "file_extension": ".py",
   "mimetype": "text/x-python",
   "name": "python",
   "nbconvert_exporter": "python",
   "pygments_lexer": "ipython3",
   "version": "3.8.1"
  }
 },
 "nbformat": 4,
 "nbformat_minor": 4
}
